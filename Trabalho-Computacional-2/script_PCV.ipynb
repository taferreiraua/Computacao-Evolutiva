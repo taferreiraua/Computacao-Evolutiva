{
  "nbformat": 4,
  "nbformat_minor": 0,
  "metadata": {
    "colab": {
      "provenance": []
    },
    "kernelspec": {
      "name": "python3",
      "display_name": "Python 3"
    },
    "language_info": {
      "name": "python"
    }
  },
  "cells": [
    {
      "cell_type": "markdown",
      "source": [
        "# ***Implementação do Problema do Caixeiro Viajante***"
      ],
      "metadata": {
        "id": "HyePkGnN7qTh"
      }
    },
    {
      "cell_type": "markdown",
      "source": [
        "**Descrição:** _\"Na linguagem de sua preferência, implementar um algoritmo para resolver este problema a partir da abordagem de força bruta, isto é, que enumera e avalia todas as soluções, retornando aquela que tenha menor custo. Observe que este algoritmo é capaz de resolver apenas instâncias muito pequenas do problema em tempo aceitável.\"_"
      ],
      "metadata": {
        "id": "a_QqKEyR73Bq"
      }
    },
    {
      "cell_type": "markdown",
      "source": [
        "#### **Packages:**"
      ],
      "metadata": {
        "id": "iTQkJMZ_78cP"
      }
    },
    {
      "cell_type": "code",
      "source": [
        "import numpy as np\n",
        "import itertools"
      ],
      "metadata": {
        "id": "8otEUs4Q8hZw"
      },
      "execution_count": 62,
      "outputs": []
    },
    {
      "cell_type": "markdown",
      "source": [
        "#### **Representando a cidade como uma Classe:**"
      ],
      "metadata": {
        "id": "DrFbT6tT8lY4"
      }
    },
    {
      "cell_type": "code",
      "source": [
        "class Cidade:\n",
        "  def __init__(self, nome, x, y):\n",
        "    self.nome = nome\n",
        "    self.coordenadas = np.array([x, y])"
      ],
      "metadata": {
        "id": "9gInHqJk8xs4"
      },
      "execution_count": 63,
      "outputs": []
    },
    {
      "cell_type": "markdown",
      "source": [
        "#### **Função para o cálculo da distância:**"
      ],
      "metadata": {
        "id": "pyoYJJ3U9Dn2"
      }
    },
    {
      "cell_type": "code",
      "source": [
        "def calcular_distancia(cidade1, cidade2):\n",
        "  return np.linalg.norm(cidade1.coordenadas - cidade2.coordenadas)"
      ],
      "metadata": {
        "id": "bCKvkoEk9RrU"
      },
      "execution_count": 64,
      "outputs": []
    },
    {
      "cell_type": "markdown",
      "source": [
        "#### **PCV:**"
      ],
      "metadata": {
        "id": "J3cogECx9UdY"
      }
    },
    {
      "cell_type": "code",
      "execution_count": 65,
      "metadata": {
        "id": "_JldhzJt7mgB"
      },
      "outputs": [],
      "source": [
        "def PCV(cidades):\n",
        "    melhor_rota = None\n",
        "    menor_custo = float('inf')\n",
        "\n",
        "    for rota_atual in itertools.permutations(cidades):\n",
        "      custo_total = sum(calcular_distancia(rota_atual[i], rota_atual[i + 1]) for i in range(len(rota_atual) - 1))\n",
        "      custo_total += calcular_distancia(rota_atual[-1], rota_atual[0])\n",
        "\n",
        "      if custo_total < menor_custo:\n",
        "        menor_custo = custo_total\n",
        "        melhor_rota = rota_atual\n",
        "\n",
        "    return melhor_rota, menor_custo"
      ]
    },
    {
      "cell_type": "code",
      "source": [
        "def print_resultado(melhor_rota, menor_custo):\n",
        "  print(\"Melhor Rota:\")\n",
        "  for cidade in melhor_rota:\n",
        "    print(cidade.nome)\n",
        "  print(\"Menor Custo:\", menor_custo)"
      ],
      "metadata": {
        "id": "jhBOCg5y_5bM"
      },
      "execution_count": 66,
      "outputs": []
    },
    {
      "cell_type": "markdown",
      "source": [
        "#### **Execução:**"
      ],
      "metadata": {
        "id": "kVYi1e_c9a7g"
      }
    },
    {
      "cell_type": "markdown",
      "source": [
        "  ##### Para 4 cidades:"
      ],
      "metadata": {
        "id": "6nFh5vm0_yWO"
      }
    },
    {
      "cell_type": "code",
      "source": [
        "cidade1 = Cidade(\"Cidade A\", 0, 0)\n",
        "cidade2 = Cidade(\"Cidade B\", 8, 2)\n",
        "cidade3 = Cidade(\"Cidade C\", 10, 12)\n",
        "cidade4 = Cidade(\"Cidade D\", 30, 15)\n",
        "\n",
        "cidades = [cidade1, cidade2, cidade3, cidade4]\n",
        "\n",
        "melhor_rota, menor_custo = PCV(cidades)\n",
        "\n",
        "print_resultado(melhor_rota, menor_custo)"
      ],
      "metadata": {
        "colab": {
          "base_uri": "https://localhost:8080/"
        },
        "id": "kDke3Z-L9e6d",
        "outputId": "e6db32ed-dc26-4f49-e4f4-457fbc3442cb"
      },
      "execution_count": 67,
      "outputs": [
        {
          "output_type": "stream",
          "name": "stdout",
          "text": [
            "Melhor Rota:\n",
            "Cidade A\n",
            "Cidade B\n",
            "Cidade D\n",
            "Cidade C\n",
            "Menor Custo: 69.64432369756659\n"
          ]
        }
      ]
    },
    {
      "cell_type": "markdown",
      "source": [
        "##### Para 6 cidades:"
      ],
      "metadata": {
        "id": "qhBF3E3xC2rW"
      }
    },
    {
      "cell_type": "code",
      "source": [
        "cidade5 = Cidade(\"Cidade E\", 10, 8)\n",
        "cidade6 = Cidade(\"Cidade F\", 12, 4)\n",
        "\n",
        "cidades = [cidade1, cidade2, cidade3, cidade4, cidade5, cidade6]\n",
        "\n",
        "melhor_rota, menor_custo = PCV(cidades)\n",
        "\n",
        "print_resultado(melhor_rota, menor_custo)"
      ],
      "metadata": {
        "colab": {
          "base_uri": "https://localhost:8080/"
        },
        "id": "hcUlNZDKCmf7",
        "outputId": "b8996328-23e0-4729-a8f0-b143378aebd7"
      },
      "execution_count": 68,
      "outputs": [
        {
          "output_type": "stream",
          "name": "stdout",
          "text": [
            "Melhor Rota:\n",
            "Cidade A\n",
            "Cidade E\n",
            "Cidade C\n",
            "Cidade D\n",
            "Cidade F\n",
            "Cidade B\n",
            "Menor Custo: 70.84336720698626\n"
          ]
        }
      ]
    },
    {
      "cell_type": "markdown",
      "source": [
        "##### Para 8 cidades:"
      ],
      "metadata": {
        "id": "MdreGOreDA2x"
      }
    },
    {
      "cell_type": "code",
      "source": [
        "cidade7 = Cidade(\"Cidade G\", 3, 8)\n",
        "cidade8 = Cidade(\"Cidade H\", 12, 40)\n",
        "\n",
        "cidades = [cidade1, cidade2, cidade3, cidade4, cidade5, cidade6, cidade7, cidade8]\n",
        "\n",
        "melhor_rota, menor_custo = PCV(cidades)\n",
        "\n",
        "print_resultado(melhor_rota, menor_custo)"
      ],
      "metadata": {
        "colab": {
          "base_uri": "https://localhost:8080/"
        },
        "id": "R2zYAuOjDC2t",
        "outputId": "4ac89966-8e2b-435b-be4a-b8282de8a131"
      },
      "execution_count": 69,
      "outputs": [
        {
          "output_type": "stream",
          "name": "stdout",
          "text": [
            "Melhor Rota:\n",
            "Cidade E\n",
            "Cidade C\n",
            "Cidade H\n",
            "Cidade D\n",
            "Cidade F\n",
            "Cidade B\n",
            "Cidade A\n",
            "Cidade G\n",
            "Menor Custo: 112.23455535801652\n"
          ]
        }
      ]
    },
    {
      "cell_type": "markdown",
      "source": [
        "##### Para 9 cidades:"
      ],
      "metadata": {
        "id": "cnPt1M9YEJvL"
      }
    },
    {
      "cell_type": "code",
      "source": [
        "cidade9 = Cidade(\"Cidade I\", 2, 7)\n",
        "\n",
        "cidades = [cidade1, cidade2, cidade3, cidade4, cidade5, cidade6, cidade7, cidade8, cidade9]\n",
        "\n",
        "melhor_rota, menor_custo = PCV(cidades)\n",
        "\n",
        "print_resultado(melhor_rota, menor_custo)"
      ],
      "metadata": {
        "colab": {
          "base_uri": "https://localhost:8080/"
        },
        "id": "ZXIEpfc5DLqG",
        "outputId": "38832339-76a1-4eb4-8a50-89eb8abab578"
      },
      "execution_count": 70,
      "outputs": [
        {
          "output_type": "stream",
          "name": "stdout",
          "text": [
            "Melhor Rota:\n",
            "Cidade A\n",
            "Cidade I\n",
            "Cidade G\n",
            "Cidade E\n",
            "Cidade C\n",
            "Cidade H\n",
            "Cidade D\n",
            "Cidade F\n",
            "Cidade B\n",
            "Menor Custo: 112.38487506435261\n"
          ]
        }
      ]
    },
    {
      "cell_type": "markdown",
      "source": [
        "##### Após a inclusão da nona cidade, constatou-se um aumento no tempo de processamento do algoritmo para gerar a saída."
      ],
      "metadata": {
        "id": "jp6EJLarEA-6"
      }
    }
  ]
}