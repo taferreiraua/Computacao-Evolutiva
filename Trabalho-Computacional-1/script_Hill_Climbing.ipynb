{
  "nbformat": 4,
  "nbformat_minor": 0,
  "metadata": {
    "colab": {
      "provenance": []
    },
    "kernelspec": {
      "name": "python3",
      "display_name": "Python 3"
    },
    "language_info": {
      "name": "python"
    }
  },
  "cells": [
    {
      "cell_type": "markdown",
      "source": [
        "# ***Computação Evolutiva: Atividade Laboratório - 12/09/2023***"
      ],
      "metadata": {
        "id": "IGIPeA8Scran"
      }
    },
    {
      "cell_type": "markdown",
      "source": [
        "De forma a compreender melhor o algoritmo Hill Climbing, nessa atividade iremos considerar um exemplo simples de maximização de uma função. Vocês devem devem implementar o Hill Climbing para encontrar o valor máximo da função $f(x) = -x^2$ no intervalo $-10 ≤ x ≤ 10$."
      ],
      "metadata": {
        "id": "n4tWlmXqdG99"
      }
    },
    {
      "cell_type": "markdown",
      "source": [
        "---"
      ],
      "metadata": {
        "id": "l-nYC2kRda2x"
      }
    },
    {
      "cell_type": "markdown",
      "source": [
        "## **Algoritmo**"
      ],
      "metadata": {
        "id": "Lk1jUmcLdWNO"
      }
    },
    {
      "cell_type": "code",
      "source": [
        "import random\n",
        "\n",
        "random.seed(12)"
      ],
      "metadata": {
        "id": "eCYQU2Q5gvFl"
      },
      "execution_count": null,
      "outputs": []
    },
    {
      "cell_type": "markdown",
      "source": [
        "- **Função:**"
      ],
      "metadata": {
        "id": "FCK_VPEpepUp"
      }
    },
    {
      "cell_type": "code",
      "source": [
        "def f(x):\n",
        "    return -x**2"
      ],
      "metadata": {
        "id": "WlSTY16XesYO"
      },
      "execution_count": null,
      "outputs": []
    },
    {
      "cell_type": "markdown",
      "source": [
        "- **Parâmetros:**"
      ],
      "metadata": {
        "id": "2vdPwHRFevBe"
      }
    },
    {
      "cell_type": "code",
      "source": [
        "x_min = -10\n",
        "x_max = 10\n",
        "x_inicial = 5\n",
        "step_size = 0.1\n",
        "max_iter = 100"
      ],
      "metadata": {
        "id": "v-HoXvEfe2k4"
      },
      "execution_count": null,
      "outputs": []
    },
    {
      "cell_type": "markdown",
      "source": [
        "- **Inicialização:**"
      ],
      "metadata": {
        "id": "UvXhlobTfKDn"
      }
    },
    {
      "cell_type": "code",
      "source": [
        "x_atual = x_inicial\n",
        "valor_atual = f(x_atual)"
      ],
      "metadata": {
        "id": "JmZ2x_CWfL-W"
      },
      "execution_count": null,
      "outputs": []
    },
    {
      "cell_type": "markdown",
      "source": [
        "- **Looping do Hill Climbing:**"
      ],
      "metadata": {
        "id": "lL9ULvhTg4HV"
      }
    },
    {
      "cell_type": "code",
      "source": [
        "for iteration in range(max_iter):\n",
        "    x_novo = x_atual + random.uniform(-step_size, step_size) # gera os vizinhos\n",
        "\n",
        "    x_novo = max(x_min, min(x_max, x_novo)) # novo valor de x dentro do intervalo permitido\n",
        "\n",
        "    novo_valor = f(x_novo) # avalia na função\n",
        "\n",
        "    if novo_valor > valor_atual: # seleciona\n",
        "        x_atual = x_novo\n",
        "        valor_atual = novo_valor"
      ],
      "metadata": {
        "id": "2Ri-eNB4emku"
      },
      "execution_count": null,
      "outputs": []
    },
    {
      "cell_type": "code",
      "source": [
        "print(\"Máximo encontrado:\", x_atual)\n",
        "print(\"Valor máximo:\", valor_atual)"
      ],
      "metadata": {
        "colab": {
          "base_uri": "https://localhost:8080/"
        },
        "id": "rK0ztBxYhYBU",
        "outputId": "7b5f12ce-f7ab-4063-abf1-49fd8680a29b"
      },
      "execution_count": null,
      "outputs": [
        {
          "output_type": "stream",
          "name": "stdout",
          "text": [
            "Máximo encontrado: 2.0207092076498188\n",
            "Valor máximo: -4.083265701880759\n"
          ]
        }
      ]
    }
  ]
}